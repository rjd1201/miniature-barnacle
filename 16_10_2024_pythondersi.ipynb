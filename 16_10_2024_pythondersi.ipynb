{
  "nbformat": 4,
  "nbformat_minor": 0,
  "metadata": {
    "colab": {
      "provenance": [],
      "authorship_tag": "ABX9TyM/7rJcxuWQUV6m9fi/ORFx",
      "include_colab_link": true
    },
    "kernelspec": {
      "name": "python3",
      "display_name": "Python 3"
    },
    "language_info": {
      "name": "python"
    }
  },
  "cells": [
    {
      "cell_type": "markdown",
      "metadata": {
        "id": "view-in-github",
        "colab_type": "text"
      },
      "source": [
        "<a href=\"https://colab.research.google.com/github/rjd1201/miniature-barnacle/blob/main/16_10_2024_pythondersi.ipynb\" target=\"_parent\"><img src=\"https://colab.research.google.com/assets/colab-badge.svg\" alt=\"Open In Colab\"/></a>"
      ]
    },
    {
      "cell_type": "code",
      "execution_count": null,
      "metadata": {
        "id": "pn8_ZyG4eSvb"
      },
      "outputs": [],
      "source": [
        "3x3 Kare Matris Toplama Programı\n",
        "\n",
        "\n",
        "#Başlangıçta içinde 9 adet 0 olan iki matris yaratılır\n",
        "matris1 = [[0 for x in range(3)] for y in range(3)]\n",
        "matris2 = [[0 for x in range(3)] for y in range(3)]\n",
        "for i in range (3): #ilk matrisi dolduran döngü\n",
        "   for j in range(3):\n",
        "    matris1[i][j] = int(input(\"ilk matrisin\" +\n",
        "    str(i+1) + \".satır\" + str(j+1) + \". sütun elamanı:\"))\n",
        "for i in range(3): #ikinci matrisi dolduran döngü\n",
        "    for j in range(3):\n",
        "      matris2[i][j] = int(input(\"ikinci matrisin\" +\n",
        "    str(i+1) + \".satır\" + str(j+1) + \". sütun elamanı:\"))\n",
        "      for i in range (3): #toplama işlemini yapan döngü\n",
        "   for j in range(3):\n",
        "      print (\"%5d\" % (matris1[i][j] + matris2[i][j]), end='')\n",
        "    print() #satır bitiminde alt satıra inmek için\n"
      ]
    }
  ]
}